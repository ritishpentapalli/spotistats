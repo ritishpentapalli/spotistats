{
 "cells": [
  {
   "cell_type": "code",
   "execution_count": 1,
   "metadata": {},
   "outputs": [],
   "source": [
    "import requests\n",
    "import pandas as pd"
   ]
  },
  {
   "cell_type": "code",
   "execution_count": 2,
   "metadata": {},
   "outputs": [],
   "source": [
    "with open(\"user_access_token.txt\") as file:\n",
    "    user_access_token = file.read()"
   ]
  },
  {
   "cell_type": "code",
   "execution_count": 3,
   "metadata": {},
   "outputs": [],
   "source": [
    "top_songs = []\n",
    "top_songs_api_call = requests.get(f'https://api.spotify.com/v1/me/top/tracks?limit=50&time_range=medium_term', headers={\"Authorization\": f\"Bearer {user_access_token}\"}).json()['items']\n",
    "for song in top_songs_api_call: top_songs.append([song['id'],song['popularity']]) # Nested list of top 50 songs [<song ID>:str, <popularity>:int] # Potential: Fetch song name as well?"
   ]
  },
  {
   "cell_type": "code",
   "execution_count": 4,
   "metadata": {},
   "outputs": [],
   "source": [
    "top_artists = []\n",
    "top_artists_api_call = requests.get(f'https://api.spotify.com/v1/me/top/artists?limit=10&time_range=medium_term', headers={\"Authorization\": f\"Bearer {user_access_token}\"}).json()['items']\n",
    "for artist in top_artists_api_call: top_artists.append([artist['name'], artist['id'], artist['popularity'] ]) # Nested list of top 10 artists [<artist name>:str, <artist ID>:str, <popularity>:int]"
   ]
  },
  {
   "cell_type": "code",
   "execution_count": 5,
   "metadata": {},
   "outputs": [
    {
     "name": "stdout",
     "output_type": "stream",
     "text": [
      "                        ID  Popularity\n",
      "0   7K3BhSpAxZBznislvUMVtn          86\n",
      "1   3cBsEDNhFI9E82vPj3kvi3          85\n",
      "2   2DROU2PMffuPfU5obZRxZs          68\n",
      "3   4WRSAREjHbW6vc5WCfOiVL          48\n",
      "4   4w4EJ9EaeogHLLEYlUXFDo          65\n",
      "5   4VL310GGX3b2ixL3sV0Je8          62\n",
      "6   5W4kiM2cUYBJXKRudNyxjW          84\n",
      "7   1Lo0QY9cvc8sUB2vnIOxDT          89\n",
      "8   31zfOvtc8QNHr4GZbZHczn          51\n",
      "9   4ly1QBXEwYoDmje9rmEgC4          76\n",
      "10  1iA7DyrJbukpd4X2EcT9Xd          57\n",
      "11  0zmStNzcBaOuPjEwp3PYel           0\n",
      "12  2Gnsof1hvZzjE1xdLRpjtf          66\n",
      "13  3iMxZLLme2MlJE5RiaAqEH          29\n",
      "14  14SaZBTjxlorHJQxXh01Hu          81\n",
      "15  4KW1lqgSr8TKrvBII0Brf8          86\n",
      "16  5yHvGn616eJSHay3d2SuyR          53\n",
      "17  5Y6nVaayzitvsD5F7nr3DV          85\n",
      "18  42fw0rxRO2xbesF6mJfd4Y          73\n",
      "19  2Hh3ETdQKrmSI3QS0hme7g          88\n",
      "20  6foY66mWZN0pSRjZ408c00          83\n",
      "21  4kjI1gwQZRKNDkw1nI475M          88\n",
      "22  1HMFdKHDiHY0qmqdVH710d          72\n",
      "23  2gJj6WtAxXjApMs3PXsCeX          76\n",
      "24  047fCsbO4NdmwCBn8pcUXl          78\n",
      "25  1wLNEMiUzwvRZz9XHCXhAE          75\n",
      "26  03fs6oV5JAlbytRYf3371S          74\n",
      "27  6QuwMgDZub0zf70EOcWtqk          70\n",
      "28  0WtM2NBVQNNJLh6scP13H8          90\n",
      "29  003vvx7Niy0yvhvHt4a68B          86\n",
      "30  1rXq0uoV4KTgRN64jXzIxo          78\n",
      "31  5o7VcGzrw15SoJlAwcm8Ba          48\n",
      "32  1zv3WFUbZ5vPxFq9I2jAU1          62\n",
      "33  50x1Ic8CaXkYNvjmxe3WXy          88\n",
      "34  6IyoLWzljeR3ldQo4KWHT6          82\n",
      "35  6Qyc6fS4DsZjB2mRW9DsQs          85\n",
      "36  1i9lZvlaDdWDPyXEE95aiq          90\n",
      "37  4TSDz7xZtxIXeKwiOuCe25          71\n",
      "38  2eAZfqOm4EnOF9VvN50Tyc          82\n",
      "39  52okn5MNA47tk87PeZJLEL          81\n",
      "40  1ldUPmqrCvk6thNYe0oUen          74\n",
      "41  1rcnbeovJnCUHDwImmpTNp          63\n",
      "42  6dgUya35uo964z7GZXM07g          89\n",
      "43  0uxSUdBrJy9Un0EYoBowng          84\n",
      "44  7oTE1KmtU2ml9zBhv9Reao          68\n",
      "45  7vRfxLcDDwgYW2WTrtEgUV          64\n",
      "46  26OhjtaTamFocE08t83ml6          72\n",
      "47  55LnC7VuUvayQ3fW0CvDL6          63\n",
      "48  7xoUc6faLbCqZO6fQEYprd          84\n",
      "49  1dyxS3YzBbL0t8rEVwVQ1K          70\n"
     ]
    }
   ],
   "source": [
    "songs_pandas = pd.DataFrame(top_songs, columns=['ID', 'Popularity'])\n",
    "artists_pandas = pd.DataFrame(top_artists, columns=['Name', 'ID', 'Popularity'])\n",
    "\n",
    "print(songs_pandas)\n"
   ]
  },
  {
   "cell_type": "code",
   "execution_count": 13,
   "metadata": {},
   "outputs": [
    {
     "name": "stdout",
     "output_type": "stream",
     "text": [
      "              Name                      ID  Popularity\n",
      "0     Lana Del Rey  00FQb4jTyendYWaN8pK0wa          90\n",
      "1            Drake  3TVXtAsR1Inumwj472S9r4          95\n",
      "2     Travis Scott  0Y5tJX1MQlPlqiwlOH1tJY          93\n",
      "3       Kanye West  5K4W6rqBFWDnAN6FQUkS6x          90\n",
      "4       Zach Bryan  40ZNYROS4zLfyyBSs2PGe2          89\n",
      "5    Morgan Wallen  4oUHIQIBe0LHzYfvXNW4QM          87\n",
      "6              SZA  7tYKF4w9nC0nq9CsPZTHyP          89\n",
      "7  Phoebe Bridgers  1r1uxoy19fzMxunt3ONAkG          77\n",
      "8     Metro Boomin  0iEtIxbK0KxaSlF7G42ZOp          87\n",
      "9       The Weeknd  1Xyo4u8uXC1ZmMpatF05PJ          94\n"
     ]
    }
   ],
   "source": [
    "print(artists_pandas)"
   ]
  }
 ],
 "metadata": {
  "kernelspec": {
   "display_name": "venv",
   "language": "python",
   "name": "python3"
  },
  "language_info": {
   "codemirror_mode": {
    "name": "ipython",
    "version": 3
   },
   "file_extension": ".py",
   "mimetype": "text/x-python",
   "name": "python",
   "nbconvert_exporter": "python",
   "pygments_lexer": "ipython3",
   "version": "3.11.5"
  },
  "orig_nbformat": 4
 },
 "nbformat": 4,
 "nbformat_minor": 2
}
